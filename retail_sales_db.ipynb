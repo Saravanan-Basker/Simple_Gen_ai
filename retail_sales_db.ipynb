{
 "cells": [
  {
   "cell_type": "code",
   "execution_count": 1,
   "id": "98810361-714c-4b3c-ad20-2a57f9e9a713",
   "metadata": {},
   "outputs": [],
   "source": [
    "from langchain_google_genai import GoogleGenerativeAI\n",
    "\n",
    "import os\n",
    "from dotenv import load_dotenv\n",
    "load_dotenv() \n",
    "\n",
    "#llm = GoogleGenerativeAI(model=\"models/text-bison-001\", google_api_key=os.environ[\"GOOGLE_API_KEY\"])\n",
    "llm = GoogleGenerativeAI(model=\"gemini-1.5-flash-latest\",google_api_key=os.environ[\"GOOGLE_API_KEY\"])"
   ]
  },
  {
   "cell_type": "code",
   "execution_count": 2,
   "id": "9f89ffac-4715-4162-9e6c-2d366a9fb762",
   "metadata": {},
   "outputs": [
    {
     "name": "stderr",
     "output_type": "stream",
     "text": [
      "/opt/anaconda3/envs/llm_env/lib/python3.10/site-packages/langchain_core/_api/deprecation.py:119: LangChainDeprecationWarning: The method `BaseLLM.__call__` was deprecated in langchain-core 0.1.7 and will be removed in 0.3.0. Use invoke instead.\n",
      "  warn_deprecated(\n"
     ]
    },
    {
     "name": "stdout",
     "output_type": "stream",
     "text": [
      "Abdul Kalam, a visionary, soared with fire,\n",
      "A missile man, fulfilling India's desire.\n",
      "Dr. Jaishankar, in diplomacy's art,\n",
      "Navigates global currents, playing a smart part.\n",
      "\n",
      "Kalam's legacy, in science's bright gleam,\n",
      "Inspires youth to chase a celestial dream.\n",
      "Jaishankar's wisdom, in strategic design,\n",
      "Shapes India's standing, a powerful sign.\n",
      "\n",
      "Two giants distinct, yet both serve the nation,\n",
      "With dedication, skill, and deep devotion.\n",
      "\n"
     ]
    }
   ],
   "source": [
    "print(llm(\"10 lines about abdul kalam and dr.jaisankar\"))"
   ]
  },
  {
   "cell_type": "markdown",
   "id": "e0c0d700",
   "metadata": {},
   "source": [
    "#### Connect with database and ask some basic questions"
   ]
  },
  {
   "cell_type": "code",
   "execution_count": 3,
   "id": "f48fbb53",
   "metadata": {},
   "outputs": [],
   "source": [
    "\n",
    "#from langchain_community.utilities import SQLDatabase\n",
    "from langchain_experimental.sql import SQLDatabaseChain\n",
    "from langchain_community.utilities import SQLDatabase\n"
   ]
  },
  {
   "cell_type": "code",
   "execution_count": 5,
   "id": "23f9ae16",
   "metadata": {},
   "outputs": [
    {
     "name": "stdout",
     "output_type": "stream",
     "text": [
      "\n",
      "CREATE TABLE sales_tb (\n",
      "\t`TransactionID` INTEGER, \n",
      "\t`Date` DATE, \n",
      "\t`CustomerID` VARCHAR(10), \n",
      "\t`Gender` VARCHAR(10), \n",
      "\t`Age` INTEGER, \n",
      "\t`ProductCategory` VARCHAR(50), \n",
      "\t`Quantity` INTEGER, \n",
      "\t`PriceperUnit` DECIMAL(10, 2), \n",
      "\t`TotalAmount` DECIMAL(10, 2)\n",
      ")ENGINE=InnoDB DEFAULT CHARSET=utf8mb4 COLLATE utf8mb4_0900_ai_ci\n",
      "\n",
      "/*\n",
      "3 rows from sales_tb table:\n",
      "TransactionID\tDate\tCustomerID\tGender\tAge\tProductCategory\tQuantity\tPriceperUnit\tTotalAmount\n",
      "1\t2023-11-24\tCUST001\tMale\t34\tBeauty\t3\t50.00\t150.00\n",
      "2\t2023-02-27\tCUST002\tFemale\t26\tClothing\t2\t500.00\t1000.00\n",
      "3\t2023-01-13\tCUST003\tMale\t50\tElectronics\t1\t30.00\t30.00\n",
      "*/\n"
     ]
    }
   ],
   "source": [
    "db_user = \"root\"\n",
    "db_password = \"sr2910\"\n",
    "db_host = \"localhost\"\n",
    "db_name = \"retail_sales_db\"\n",
    "\n",
    "db = SQLDatabase.from_uri(f\"mysql+pymysql://{db_user}:{db_password}@{db_host}/{db_name}\",sample_rows_in_table_info=3)\n",
    "\n",
    "\n",
    "print(db.table_info)"
   ]
  },
  {
   "cell_type": "code",
   "execution_count": 6,
   "id": "25a66c96-46c5-4399-875b-51dfa2f3abc0",
   "metadata": {},
   "outputs": [
    {
     "data": {
      "text/plain": [
       "'Question: How many customers are there\\nSQLQuery: SELECT COUNT(DISTINCT `CustomerID`) AS `Number of Customers` FROM `sales_tb`'"
      ]
     },
     "execution_count": 6,
     "metadata": {},
     "output_type": "execute_result"
    }
   ],
   "source": [
    "#Convert question to SQL query\n",
    "from langchain.chains import create_sql_query_chain\n",
    "\n",
    "chain = create_sql_query_chain(llm, db)\n",
    "response = chain.invoke({\"question\": \"How many customers are there\"})\n",
    "response"
   ]
  },
  {
   "cell_type": "code",
   "execution_count": 7,
   "id": "529ac714-f926-4627-826d-16de9830aa5e",
   "metadata": {},
   "outputs": [
    {
     "name": "stdout",
     "output_type": "stream",
     "text": [
      "SELECT COUNT(DISTINCT `CustomerID`) AS `Number of Customers` FROM `sales_tb`\n"
     ]
    }
   ],
   "source": [
    "cleaned_query = response.split(\"SQLQuery:\")[-1].strip()\n",
    "print(cleaned_query)"
   ]
  },
  {
   "cell_type": "code",
   "execution_count": 8,
   "id": "6f76527d-119a-4062-bdb1-d768d5707be3",
   "metadata": {},
   "outputs": [
    {
     "name": "stdout",
     "output_type": "stream",
     "text": [
      "[(29,)]\n"
     ]
    }
   ],
   "source": [
    "# Execute the cleaned query\n",
    "result = db.run(cleaned_query)\n",
    "print(result)"
   ]
  },
  {
   "cell_type": "code",
   "execution_count": null,
   "id": "2825fc41-87c9-43d3-a4a0-9074e0dc2667",
   "metadata": {},
   "outputs": [],
   "source": []
  },
  {
   "cell_type": "code",
   "execution_count": 9,
   "id": "573e95b9-eb69-46e0-918b-62e114e6f0c0",
   "metadata": {},
   "outputs": [],
   "source": [
    "chain = create_sql_query_chain(llm, db)\n",
    "def execute_query(question):\n",
    "    try:\n",
    "        # Generate SQL query from question\n",
    "        response = chain.invoke({\"question\": question})\n",
    "        print(response)\n",
    "        print(\"###################################################\")\n",
    "        # Strip the formatting markers from the response\n",
    "        cleaned_query = response.split(\"SQLQuery:\")[-1].strip()\n",
    "        print(cleaned_query)\n",
    "        print(\"###################################################\")        \n",
    "        # Execute the cleaned query\n",
    "        result = db.run(cleaned_query)\n",
    "        print(\"###################################################\")        \n",
    "        # Display the result\n",
    "        print(result)\n",
    "    except ProgrammingError as e:\n",
    "        print(f\"An error occurred: {e}\")\n"
   ]
  },
  {
   "cell_type": "code",
   "execution_count": 10,
   "id": "29ca3b54-d1ed-428f-a03c-9c337f41926e",
   "metadata": {},
   "outputs": [
    {
     "name": "stdout",
     "output_type": "stream",
     "text": [
      "Question: How many unique customers are there for each product category\n",
      "SQLQuery: SELECT `ProductCategory`, COUNT(DISTINCT `CustomerID`) AS `UniqueCustomerCount` FROM `sales_tb` GROUP BY `ProductCategory` LIMIT 5;\n",
      "###################################################\n",
      "SELECT `ProductCategory`, COUNT(DISTINCT `CustomerID`) AS `UniqueCustomerCount` FROM `sales_tb` GROUP BY `ProductCategory` LIMIT 5;\n",
      "###################################################\n",
      "###################################################\n",
      "[('Beauty', 8), ('Clothing', 13), ('Electronics', 8)]\n"
     ]
    }
   ],
   "source": [
    "q1 = \"How many unique customers are there for each product category\"\n",
    "execute_query(q1)"
   ]
  },
  {
   "cell_type": "code",
   "execution_count": 17,
   "id": "aeda3451-5fc1-462b-8873-c09cc2401239",
   "metadata": {},
   "outputs": [
    {
     "name": "stdout",
     "output_type": "stream",
     "text": [
      "Question: Calculate total sales amount per product category:\n",
      "SQLQuery: SELECT `ProductCategory`, SUM(`TotalAmount`) AS `TotalSales` FROM `sales_tb` GROUP BY `ProductCategory` LIMIT 5;\n",
      "###################################################\n",
      "SELECT `ProductCategory`, SUM(`TotalAmount`) AS `TotalSales` FROM `sales_tb` GROUP BY `ProductCategory` LIMIT 5;\n",
      "###################################################\n",
      "###################################################\n",
      "[('Beauty', Decimal('1455.00')), ('Clothing', Decimal('5040.00')), ('Electronics', Decimal('5310.00'))]\n"
     ]
    }
   ],
   "source": [
    "q2 = \"Calculate total sales amount per product category:\"\n",
    "execute_query(q2)"
   ]
  },
  {
   "cell_type": "code",
   "execution_count": 18,
   "id": "bc3ced61-e47e-47c1-b934-4cee3823219f",
   "metadata": {},
   "outputs": [
    {
     "name": "stdout",
     "output_type": "stream",
     "text": [
      "Question: calculates the average age of customers grouped by gender.\n",
      "SQLQuery: SELECT `Gender`, AVG(`Age`) AS `AverageAge` FROM `sales_tb` GROUP BY `Gender` LIMIT 5;\n",
      "###################################################\n",
      "SELECT `Gender`, AVG(`Age`) AS `AverageAge` FROM `sales_tb` GROUP BY `Gender` LIMIT 5;\n",
      "###################################################\n",
      "###################################################\n",
      "[('Male', Decimal('35.2143')), ('Female', Decimal('43.3333'))]\n"
     ]
    }
   ],
   "source": [
    "q3 = \"calculates the average age of customers grouped by gender.\"\n",
    "execute_query(q3)"
   ]
  },
  {
   "cell_type": "code",
   "execution_count": 19,
   "id": "52d613ed",
   "metadata": {},
   "outputs": [
    {
     "name": "stdout",
     "output_type": "stream",
     "text": [
      "Question: identify the top spending customers based on their total amount spent.\n",
      "SQLQuery: SELECT `CustomerID`, SUM(`TotalAmount`) AS `TotalSpent` FROM `sales_tb` GROUP BY `CustomerID` ORDER BY `TotalSpent` DESC LIMIT 5;\n",
      "###################################################\n",
      "SELECT `CustomerID`, SUM(`TotalAmount`) AS `TotalSpent` FROM `sales_tb` GROUP BY `CustomerID` ORDER BY `TotalSpent` DESC LIMIT 5;\n",
      "###################################################\n",
      "###################################################\n",
      "[('CUST015', Decimal('2000.00')), ('CUST013', Decimal('1500.00')), ('CUST016', Decimal('1500.00')), ('CUST002', Decimal('1000.00')), ('CUST026', Decimal('1000.00'))]\n"
     ]
    }
   ],
   "source": [
    "q4 = \"identify the top spending customers based on their total amount spent.\"\n",
    "execute_query(q4)"
   ]
  },
  {
   "cell_type": "code",
   "execution_count": 20,
   "id": "7da6c762",
   "metadata": {},
   "outputs": [
    {
     "name": "stdout",
     "output_type": "stream",
     "text": [
      "Question: counts the number of transactions made each month.\n",
      "SQLQuery: SELECT MONTH(`Date`) AS `Month`, COUNT(*) AS `TransactionCount` FROM `sales_tb` GROUP BY `Month` LIMIT 5;\n",
      "###################################################\n",
      "SELECT MONTH(`Date`) AS `Month`, COUNT(*) AS `TransactionCount` FROM `sales_tb` GROUP BY `Month` LIMIT 5;\n",
      "###################################################\n",
      "###################################################\n",
      "[(11, 3), (2, 4), (1, 4), (5, 2), (4, 5)]\n"
     ]
    }
   ],
   "source": [
    "q5 = \"counts the number of transactions made each month.\"\n",
    "execute_query(q5)"
   ]
  },
  {
   "cell_type": "code",
   "execution_count": 21,
   "id": "c45b1a6d-c06b-461a-a407-50c7c43b019e",
   "metadata": {},
   "outputs": [
    {
     "name": "stdout",
     "output_type": "stream",
     "text": [
      "Question: calculates the total sales amount and average price per unit for each product category.\n",
      "SQLQuery: SELECT `ProductCategory`, SUM(`TotalAmount`) AS `TotalSales`, AVG(`PriceperUnit`) AS `AveragePricePerUnit` FROM `sales_tb` GROUP BY `ProductCategory` LIMIT 5;\n",
      "###################################################\n",
      "SELECT `ProductCategory`, SUM(`TotalAmount`) AS `TotalSales`, AVG(`PriceperUnit`) AS `AveragePricePerUnit` FROM `sales_tb` GROUP BY `ProductCategory` LIMIT 5;\n",
      "###################################################\n",
      "###################################################\n",
      "[('Beauty', Decimal('1455.00'), Decimal('153.750000')), ('Clothing', Decimal('5040.00'), Decimal('183.461538')), ('Electronics', Decimal('5310.00'), Decimal('238.750000'))]\n"
     ]
    }
   ],
   "source": [
    "q6 = \"calculates the total sales amount and average price per unit for each product category.\"\n",
    "execute_query(q6)"
   ]
  },
  {
   "cell_type": "code",
   "execution_count": null,
   "id": "d1ed4d34-4b4b-41ec-927a-c128b2e434b1",
   "metadata": {},
   "outputs": [],
   "source": []
  },
  {
   "cell_type": "code",
   "execution_count": null,
   "id": "eacfd561-8749-4a09-997c-8619a5278226",
   "metadata": {},
   "outputs": [],
   "source": []
  }
 ],
 "metadata": {
  "kernelspec": {
   "display_name": "Python 3 (ipykernel)",
   "language": "python",
   "name": "python3"
  },
  "language_info": {
   "codemirror_mode": {
    "name": "ipython",
    "version": 3
   },
   "file_extension": ".py",
   "mimetype": "text/x-python",
   "name": "python",
   "nbconvert_exporter": "python",
   "pygments_lexer": "ipython3",
   "version": "3.10.18"
  }
 },
 "nbformat": 4,
 "nbformat_minor": 5
}
